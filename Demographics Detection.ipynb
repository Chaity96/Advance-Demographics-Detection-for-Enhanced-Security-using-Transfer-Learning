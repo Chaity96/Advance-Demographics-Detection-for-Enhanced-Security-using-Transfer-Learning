{
 "cells": [
  {
   "cell_type": "code",
   "execution_count": 1,
   "id": "c62ed563-9055-49a1-872a-13974895dcc3",
   "metadata": {},
   "outputs": [
    {
     "name": "stdout",
     "output_type": "stream",
     "text": [
      "Data has been processed and saved to demographic_features.csv\n"
     ]
    }
   ],
   "source": [
    "import os\n",
    "import pandas as pd\n",
    "import logging\n",
    "\n",
    "logging.basicConfig(filename='debug.log', level=logging.DEBUG, format='%(asctime)s - %(levelname)s - %(message)s')\n",
    "def extract_labels(image_filename):\n",
    "    try:\n",
    "        basename = os.path.basename(image_filename)\n",
    "        name, _ = os.path.splitext(basename)\n",
    "        labels = name.split('_')\n",
    "        return {\n",
    "            'age': int(labels[0]),\n",
    "            'gender': int(labels[1]),\n",
    "            'race': int(labels[2]),\n",
    "            'datetime': labels[3]\n",
    "        }\n",
    "    except Exception as e:\n",
    "        logging.error(f\"Error extracting labels from {image_filename}: {e}\")\n",
    "        return None\n",
    "\n",
    "def process_image_folder(folder_path):\n",
    "    \n",
    "    data = []\n",
    "    for subdir, _, files in os.walk(folder_path):\n",
    "        logging.info(f\"Processing directory: {subdir}\")\n",
    "        for file in files:\n",
    "            if file.endswith(\".jpg\"):\n",
    "                file_path = os.path.join(subdir, file)\n",
    "                logging.info(f\"Found image file: {file_path}\")\n",
    "                labels = extract_labels(file_path)\n",
    "                if labels:\n",
    "                    labels['image_path'] = file_path\n",
    "                    data.append(labels)\n",
    "                    logging.info(f\"Extracted labels: {labels}\")\n",
    "                else:\n",
    "                    logging.warning(f\"Skipping file due to label extraction error: {file_path}\")\n",
    "            else:\n",
    "                logging.warning(f\"Skipping non-image file: {file}\")\n",
    "\n",
    "    if data:\n",
    "        df = pd.DataFrame(data)\n",
    "    else:\n",
    "        df = pd.DataFrame(columns=['age', 'gender', 'race', 'datetime', 'image_path'])\n",
    "    return df\n",
    "\n",
    "main_folder = \"data\" \n",
    "dataframe = process_image_folder(main_folder)\n",
    "\n",
    "output_csv = 'demographic_features.csv'\n",
    "dataframe.to_csv(output_csv, index=False)\n",
    "print(f\"Data has been processed and saved to {output_csv}\")"
   ]
  },
  {
   "cell_type": "code",
   "execution_count": 2,
   "id": "5e0a9bc9-e43b-43f7-af53-e47c2e645796",
   "metadata": {},
   "outputs": [
    {
     "data": {
      "image/jpeg": "[encoded data removed]",
      "text/plain": [
       "<IPython.core.display.Image object>"
      ]
     },
     "metadata": {},
     "output_type": "display_data"
    },
    {
     "name": "stdout",
     "output_type": "stream",
     "text": [
      "Age: 100, Gender: 1, Race: 0, DateTime: 20170110183726390\n"
     ]
    },
    {
     "data": {
      "image/jpeg": "[encoded data removed]",
      "text/plain": [
       "<IPython.core.display.Image object>"
      ]
     },
     "metadata": {},
     "output_type": "display_data"
    },
    {
     "name": "stdout",
     "output_type": "stream",
     "text": [
      "Age: 100, Gender: 1, Race: 2, DateTime: 20170105174847679\n"
     ]
    },
    {
     "data": {
      "image/jpeg": "[encoded data removed]",
      "text/plain": [
       "<IPython.core.display.Image object>"
      ]
     },
     "metadata": {},
     "output_type": "display_data"
    },
    {
     "name": "stdout",
     "output_type": "stream",
     "text": [
      "Age: 100, Gender: 1, Race: 2, DateTime: 20170110182836729\n"
     ]
    },
    {
     "data": {
      "image/jpeg": "[encoded data removed]",
      "text/plain": [
       "<IPython.core.display.Image object>"
      ]
     },
     "metadata": {},
     "output_type": "display_data"
    },
    {
     "name": "stdout",
     "output_type": "stream",
     "text": [
      "Age: 101, Gender: 1, Race: 2, DateTime: 20170105174739309\n"
     ]
    },
    {
     "data": {
      "image/jpeg": "[encoded data removed]",
      "text/plain": [
       "<IPython.core.display.Image object>"
      ]
     },
     "metadata": {},
     "output_type": "display_data"
    },
    {
     "name": "stdout",
     "output_type": "stream",
     "text": [
      "Age: 10, Gender: 0, Race: 0, DateTime: 20161220222308131\n"
     ]
    }
   ],
   "source": [
    "from IPython.display import Image, display\n",
    "\n",
    "# Loading the CSV file\n",
    "input_csv = 'demographic_features.csv'\n",
    "df = pd.read_csv(input_csv)\n",
    "\n",
    "def display_images_with_dataframe(df):\n",
    "    for i, row in df.iterrows():\n",
    "        display(Image(filename=row['image_path']))\n",
    "        print(f\"Age: {row['age']}, Gender: {row['gender']}, Race: {row['race']}, DateTime: {row['datetime']}\")\n",
    "\n",
    "display_images_with_dataframe(dataframe.head())\n"
   ]
  },
  {
   "cell_type": "code",
   "execution_count": 3,
   "id": "543d8a4b-1406-4746-8c9a-6b20450a09e3",
   "metadata": {},
   "outputs": [
    {
     "data": {
      "text/html": [
       "<div>\n",
       "<style scoped>\n",
       "    .dataframe tbody tr th:only-of-type {\n",
       "        vertical-align: middle;\n",
       "    }\n",
       "\n",
       "    .dataframe tbody tr th {\n",
       "        vertical-align: top;\n",
       "    }\n",
       "\n",
       "    .dataframe thead th {\n",
       "        text-align: right;\n",
       "    }\n",
       "</style>\n",
       "<table border=\"1\" class=\"dataframe\">\n",
       "  <thead>\n",
       "    <tr style=\"text-align: right;\">\n",
       "      <th></th>\n",
       "      <th>age</th>\n",
       "      <th>gender</th>\n",
       "      <th>race</th>\n",
       "      <th>datetime</th>\n",
       "      <th>image_path</th>\n",
       "    </tr>\n",
       "  </thead>\n",
       "  <tbody>\n",
       "    <tr>\n",
       "      <th>0</th>\n",
       "      <td>100</td>\n",
       "      <td>1</td>\n",
       "      <td>0</td>\n",
       "      <td>20170110183726390</td>\n",
       "      <td>data\\part1\\100_1_0_20170110183726390.jpg</td>\n",
       "    </tr>\n",
       "    <tr>\n",
       "      <th>1</th>\n",
       "      <td>100</td>\n",
       "      <td>1</td>\n",
       "      <td>2</td>\n",
       "      <td>20170105174847679</td>\n",
       "      <td>data\\part1\\100_1_2_20170105174847679.jpg</td>\n",
       "    </tr>\n",
       "    <tr>\n",
       "      <th>2</th>\n",
       "      <td>100</td>\n",
       "      <td>1</td>\n",
       "      <td>2</td>\n",
       "      <td>20170110182836729</td>\n",
       "      <td>data\\part1\\100_1_2_20170110182836729.jpg</td>\n",
       "    </tr>\n",
       "    <tr>\n",
       "      <th>3</th>\n",
       "      <td>101</td>\n",
       "      <td>1</td>\n",
       "      <td>2</td>\n",
       "      <td>20170105174739309</td>\n",
       "      <td>data\\part1\\101_1_2_20170105174739309.jpg</td>\n",
       "    </tr>\n",
       "    <tr>\n",
       "      <th>4</th>\n",
       "      <td>10</td>\n",
       "      <td>0</td>\n",
       "      <td>0</td>\n",
       "      <td>20161220222308131</td>\n",
       "      <td>data\\part1\\10_0_0_20161220222308131.jpg</td>\n",
       "    </tr>\n",
       "  </tbody>\n",
       "</table>\n",
       "</div>"
      ],
      "text/plain": [
       "   age  gender  race           datetime  \\\n",
       "0  100       1     0  20170110183726390   \n",
       "1  100       1     2  20170105174847679   \n",
       "2  100       1     2  20170110182836729   \n",
       "3  101       1     2  20170105174739309   \n",
       "4   10       0     0  20161220222308131   \n",
       "\n",
       "                                 image_path  \n",
       "0  data\\part1\\100_1_0_20170110183726390.jpg  \n",
       "1  data\\part1\\100_1_2_20170105174847679.jpg  \n",
       "2  data\\part1\\100_1_2_20170110182836729.jpg  \n",
       "3  data\\part1\\101_1_2_20170105174739309.jpg  \n",
       "4   data\\part1\\10_0_0_20161220222308131.jpg  "
      ]
     },
     "execution_count": 3,
     "metadata": {},
     "output_type": "execute_result"
    }
   ],
   "source": [
    "df.head()"
   ]
  }
 ],
 "metadata": {
  "kernelspec": {
   "display_name": "Python 3 (ipykernel)",
   "language": "python",
   "name": "python3"
  },
  "language_info": {
   "codemirror_mode": {
    "name": "ipython",
    "version": 3
   },
   "file_extension": ".py",
   "mimetype": "text/x-python",
   "name": "python",
   "nbconvert_exporter": "python",
   "pygments_lexer": "ipython3",
   "version": "3.11.7"
  }
 },
 "nbformat": 4,
 "nbformat_minor": 5
}
